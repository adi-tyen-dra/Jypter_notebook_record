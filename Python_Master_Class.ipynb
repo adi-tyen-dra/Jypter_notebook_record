{
 "cells": [
  {
   "cell_type": "code",
   "execution_count": 6,
   "id": "ba4bcfad",
   "metadata": {},
   "outputs": [
    {
     "name": "stdout",
     "output_type": "stream",
     "text": [
      "Hello World\n",
      "Hello, World!\n",
      "3\n",
      "\n",
      "the end or is it 11\n"
     ]
    }
   ],
   "source": [
    "#Day: 0001\n",
    "#lecture: 01 Intro to Python\n",
    "#topic: Hello World\n",
    "\n",
    "#Py is an objet oriented, interpreted lang that runs on all major OS\n",
    "#Supports Procedural, Functional and Object Oriented programming\n",
    "#Data strongly typed so add between an int and a str will give error\n",
    "#Its dynamic aswell so no worry about var declare\n",
    "\n",
    "print('Hello World')  \n",
    "\n",
    "#print is a func to print values to the console\n",
    "#all within the '' is called str literal \n",
    "#\"\" or '' both will work in this context\n",
    "#here the str literal is an arg fed to the func \n",
    "#func can take multi/var/const no. of arg as defined for func\n",
    "\n",
    "print('Hello, World!')  # string literal\n",
    "print(1 + 2)  # calculation \n",
    "print()  # no arg \n",
    "print(\"the end\",\n",
    "      \"or is it\",\n",
    "      5+6)  # multiple arg at once\n",
    "\n",
    "#litreal is a value of some type eg: int literal- 1, str literal-\"hell ov\"\n",
    "#func is a block of code that can be called to execute, by its name \n",
    "#func can be self/pre defined in py\n",
    "#func decl is when its name is defined with parameters but storage isn't added\n",
    "#func defin is when its body is defined along with the allocation of memory\n",
    "#all func return val in py\n",
    "#arg is the value that are passed to the func to work on\n",
    "#arg appears within the () ahead of func name in func call statement\n",
    "#arg are not always needed\n",
    "#return val, one that is returned once the func is executed\n",
    "#parameter/formal parameter is the place holder var mentioned in func declaration to accept certain arg in func def "
   ]
  },
  {
   "cell_type": "code",
   "execution_count": 7,
   "id": "27c13bce",
   "metadata": {},
   "outputs": [
    {
     "name": "stdout",
     "output_type": "stream",
     "text": [
      "string enclosed by double quotes\n",
      "string enclosed by single quotes\n",
      "python's string are easy to use\n",
      "here are the \"quotes\", we need\n",
      "helloworldgood day\n",
      "namaste adi\n",
      "please enter your name - hi\n",
      "sayonara hi\n"
     ]
    }
   ],
   "source": [
    "#Day: 0002\n",
    "#lecture: 01 Intro to Python\n",
    "#topic: Strings\n",
    "\n",
    "print(\"string enclosed by double quotes\")\n",
    "print('string enclosed by single quotes')\n",
    "print(\"python's string are easy to use\")  # single quotes used within string\n",
    "print('here are the \"quotes\", we need')  # double quote used within string\n",
    "print(\"hello\" +\n",
    "      'world' +\n",
    "      \"good day\")  # concatenating string\n",
    "greet = \"namaste\"\n",
    "name = \"adi\"\n",
    "print(greet +\n",
    "      ' ' +\n",
    "      name)  # concatenation of strings makes more sense with variables\n",
    "\n",
    "# unlike java, python has no difference between single and double quotes\n",
    "# input function helps in taking input from the user keyboard\n",
    "\n",
    "greet = 'sayonara'\n",
    "name = input('please enter your name - ')  # input is evaluated first and its result is assigned to name var\n",
    "print(greet +\n",
    "      ' ' +\n",
    "      name)  # greet and name are without \"\", they are var instead of string, being used as arg for print func"
   ]
  },
  {
   "cell_type": "code",
   "execution_count": null,
   "id": "a14d240e",
   "metadata": {},
   "outputs": [],
   "source": []
  }
 ],
 "metadata": {
  "kernelspec": {
   "display_name": "Python 3 (ipykernel)",
   "language": "python",
   "name": "python3"
  },
  "language_info": {
   "codemirror_mode": {
    "name": "ipython",
    "version": 3
   },
   "file_extension": ".py",
   "mimetype": "text/x-python",
   "name": "python",
   "nbconvert_exporter": "python",
   "pygments_lexer": "ipython3",
   "version": "3.11.5"
  }
 },
 "nbformat": 4,
 "nbformat_minor": 5
}
